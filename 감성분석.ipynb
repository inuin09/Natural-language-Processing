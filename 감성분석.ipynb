{
  "nbformat": 4,
  "nbformat_minor": 0,
  "metadata": {
    "colab": {
      "name": "감성분석.ipynb",
      "provenance": [],
      "collapsed_sections": [],
      "authorship_tag": "ABX9TyO2ow/aTbmFOk0OuNf+HgS3",
      "include_colab_link": true
    },
    "kernelspec": {
      "name": "python3",
      "display_name": "Python 3"
    },
    "language_info": {
      "name": "python"
    }
  },
  "cells": [
    {
      "cell_type": "markdown",
      "metadata": {
        "id": "view-in-github",
        "colab_type": "text"
      },
      "source": [
        "<a href=\"https://colab.research.google.com/github/inuin09/Natural-language-Processing/blob/main/%EA%B0%90%EC%84%B1%EB%B6%84%EC%84%9D.ipynb\" target=\"_parent\"><img src=\"https://colab.research.google.com/assets/colab-badge.svg\" alt=\"Open In Colab\"/></a>"
      ]
    },
    {
      "cell_type": "markdown",
      "metadata": {
        "id": "ZBsBm15VdSDg"
      },
      "source": [
        "## 맨 처음 부분 복습"
      ]
    },
    {
      "cell_type": "code",
      "metadata": {
        "id": "7pXS6t_BbS7S"
      },
      "source": [
        "#기초설치\n",
        "!apt-get update\n",
        "!apt-get install g++ openjdk-8-jdk\n",
        "!pip install JPype1\n",
        "!pip install rhinoMorph"
      ],
      "execution_count": null,
      "outputs": []
    },
    {
      "cell_type": "code",
      "metadata": {
        "colab": {
          "base_uri": "https://localhost:8080/"
        },
        "id": "HYiB5THJa8QB",
        "outputId": "c0dc9243-1dee-43db-bc87-ba914ab528b6"
      },
      "source": [
        "#RHINO 시작\n",
        "import rhinoMorph\n",
        "rn = rhinoMorph.startRhino()  #형태소분석기 객체를 rn이라는 이름으로 생성"
      ],
      "execution_count": 3,
      "outputs": [
        {
          "output_type": "stream",
          "text": [
            "filepath:  /usr/local/lib/python3.7/dist-packages\n",
            "classpath:  /usr/local/lib/python3.7/dist-packages/rhinoMorph/lib/rhino.jar\n",
            "RHINO started!\n"
          ],
          "name": "stdout"
        }
      ]
    },
    {
      "cell_type": "code",
      "metadata": {
        "colab": {
          "base_uri": "https://localhost:8080/"
        },
        "id": "a_vyESHTbIi_",
        "outputId": "43f13499-c994-41b8-98be-5ec748f92512"
      },
      "source": [
        "#예문 분석\n",
        "text='한글 테스트 글을 남겨주세요'\n",
        "sample_data = rhinoMorph.onlyMorph_list(rn, text)\n",
        "print('sample data : ', sample_data)"
      ],
      "execution_count": 4,
      "outputs": [
        {
          "output_type": "stream",
          "text": [
            "sample data :  ['한글', '테스트', '글', '을', '남기', '어', '주', '시', '어요']\n"
          ],
          "name": "stdout"
        }
      ]
    },
    {
      "cell_type": "code",
      "metadata": {
        "colab": {
          "base_uri": "https://localhost:8080/"
        },
        "id": "O8_Igua5b0GA",
        "outputId": "c5f55969-d616-44fa-e3ae-fc7f71839fa6"
      },
      "source": [
        "#RHINO 사용\n",
        "import rhinoMorph\n",
        "rn=rhinoMorph.startRhino()\n",
        "text = '한글로 된 한글텍스트를 분석하는 것은 즐겁다.'\n",
        "\n",
        "#사용 1 : 모든 형태소 보이기\n",
        "text_analyzed = rhinoMorph.onlyMorph_list(rn, text)\n",
        "print('\\n1.형태소 분석 결과 : ',text_analyzed)"
      ],
      "execution_count": 6,
      "outputs": [
        {
          "output_type": "stream",
          "text": [
            "filepath:  /usr/local/lib/python3.7/dist-packages\n",
            "classpath:  /usr/local/lib/python3.7/dist-packages/rhinoMorph/lib/rhino.jar\n",
            "JVM is already started~\n",
            "RHINO started!\n",
            "\n",
            "1.형태소 분석 결과 :  ['한글', '로', '되', 'ㄴ', '한글', '텍스트', '를', '분석', '하', '는', '것', '은', '즐겁', '다', '.']\n"
          ],
          "name": "stdout"
        }
      ]
    },
    {
      "cell_type": "code",
      "metadata": {
        "colab": {
          "base_uri": "https://localhost:8080/"
        },
        "id": "29_hM-kscGUN",
        "outputId": "d03dcbb5-23a8-46f2-c815-029f63da4a18"
      },
      "source": [
        "#사용 2 : 실질 형태소만, 동사의 어말어미는 제외\n",
        "text_analyzed = rhinoMorph.onlyMorph_list(rn, text, pos=['NNG','NNP','NP','VV','VA','XR','IC','MM','MAG','MAJ'])\n",
        "print('\\n2.형태소 분석 결과 : ',text_analyzed)"
      ],
      "execution_count": 7,
      "outputs": [
        {
          "output_type": "stream",
          "text": [
            "\n",
            "2.형태소 분석 결과 :  ['한글', '되', '한글', '텍스트', '분석', '즐겁']\n"
          ],
          "name": "stdout"
        }
      ]
    },
    {
      "cell_type": "code",
      "metadata": {
        "colab": {
          "base_uri": "https://localhost:8080/"
        },
        "id": "2EY0GLsacYWw",
        "outputId": "e313f4c8-96c3-4aac-b768-750c279b72f9"
      },
      "source": [
        "#사용 3 :실질 형태소만, 동사의 어말어미 포함\n",
        "text_analyzed = rhinoMorph.onlyMorph_list(rn, text, pos=['NNG','NNP','NP','VV','VA','XR','IC','MM','MAG','MAJ'],eomi=True)\n",
        "print('\\n3.형태소 분석 결과 : ',text_analyzed)"
      ],
      "execution_count": 8,
      "outputs": [
        {
          "output_type": "stream",
          "text": [
            "\n",
            "3.형태소 분석 결과 :  ['한글', '되다', '한글', '텍스트', '분석', '즐겁다']\n"
          ],
          "name": "stdout"
        }
      ]
    },
    {
      "cell_type": "code",
      "metadata": {
        "colab": {
          "base_uri": "https://localhost:8080/"
        },
        "id": "dPZu2mF_chry",
        "outputId": "5c9ed994-b4eb-4931-a0da-a50b8554487b"
      },
      "source": [
        "#사용 4 : 전체 형태소, 품사정보도 가져오기\n",
        "morphs, poses = rhinoMorph.wholeResult_list(rn, text)\n",
        "print('\\n4. 형태소 분석 결과 : ')\n",
        "print('morphs : ',morphs)\n",
        "print('poses :', poses)"
      ],
      "execution_count": 11,
      "outputs": [
        {
          "output_type": "stream",
          "text": [
            "\n",
            "4. 형태소 분석 결과 : \n",
            "morphs :  ['한글', '로', '되', 'ㄴ', '한글', '텍스트', '를', '분석', '하', '는', '것', '은', '즐겁', '다', '.']\n",
            "poses : ['NNG', 'JKB', 'VV', 'ETM', 'NNG', 'NNG', 'JKO', 'XR', 'XSV', 'ETM', 'NNB', 'JX', 'VA', 'EF', 'SF']\n"
          ],
          "name": "stdout"
        }
      ]
    },
    {
      "cell_type": "code",
      "metadata": {
        "colab": {
          "base_uri": "https://localhost:8080/"
        },
        "id": "-aGGtmbZcx38",
        "outputId": "069f4fe3-2cb2-4cf0-ea2d-0d41a26cddfe"
      },
      "source": [
        "#사용 5 : 원문의 어절 정보를 같이 가져 오기\n",
        "text_analyzed = rhinoMorph.wholeResult_list(rn, text)\n",
        "print('\\n5.형태소 분석 결과 : ',text_analyzed)"
      ],
      "execution_count": 12,
      "outputs": [
        {
          "output_type": "stream",
          "text": [
            "\n",
            "5.형태소 분석 결과 :  (['한글', '로', '되', 'ㄴ', '한글', '텍스트', '를', '분석', '하', '는', '것', '은', '즐겁', '다', '.'], ['NNG', 'JKB', 'VV', 'ETM', 'NNG', 'NNG', 'JKO', 'XR', 'XSV', 'ETM', 'NNB', 'JX', 'VA', 'EF', 'SF'])\n"
          ],
          "name": "stdout"
        }
      ]
    },
    {
      "cell_type": "markdown",
      "metadata": {
        "id": "LLKDB5-NdXFW"
      },
      "source": [
        "### 감성분석"
      ]
    },
    {
      "cell_type": "markdown",
      "metadata": {
        "id": "OuHx-6uMdj5z"
      },
      "source": [
        "* 문서에서 긍정적 단어가 나타나면 +1, 부정적 단어가 나타나면 -1  \n",
        "* 감성 점수 > 0 : 긍정적인 문서  \n",
        "  감성 점수 < 0 : 부정적인 문서  \n",
        "  감성 점수 = 0 : 중립적인 문서\n",
        "*sigmoid 함수를 사용하여 값을 0~1 사이로 정규화하는 방법도 있음."
      ]
    },
    {
      "cell_type": "code",
      "metadata": {
        "colab": {
          "base_uri": "https://localhost:8080/"
        },
        "id": "RcXxk47jdHuS",
        "outputId": "6fd85fd9-77d7-4d02-d6fa-28b24646dd21"
      },
      "source": [
        "from google.colab import drive\n",
        "drive.mount('/content/gdrive')"
      ],
      "execution_count": 13,
      "outputs": [
        {
          "output_type": "stream",
          "text": [
            "Mounted at /content/gdrive\n"
          ],
          "name": "stdout"
        }
      ]
    },
    {
      "cell_type": "code",
      "metadata": {
        "colab": {
          "base_uri": "https://localhost:8080/"
        },
        "id": "Q0ogEPaxd-e8",
        "outputId": "8c7ec9c6-fa2e-49d2-c658-788794f30ff5"
      },
      "source": [
        "#파일이 있는 곳으로 경로를 변경한다.\n",
        "%cd/content/gdrive/My\\ Drive/pytest/"
      ],
      "execution_count": 16,
      "outputs": [
        {
          "output_type": "stream",
          "text": [
            "/content/gdrive/My Drive/pytest\n"
          ],
          "name": "stdout"
        }
      ]
    },
    {
      "cell_type": "code",
      "metadata": {
        "id": "L39eLw8ieK1f"
      },
      "source": [
        "#데이터 로딩\n",
        "def read_data(filename, encoding='cp949'):  #읽기 함수 정의 , cp949 ??\n",
        "  with open(filename, 'r', encoding=encoding) as f:\n",
        "    data = [line.split('\\t') for line in f.read().splitlines()]  \n",
        "    #txt 파일의 헤더(id document label)는 제외하기\n",
        "    #문장 분리-> 각 문장에서 탭 부분 분리 -> 리스트 생성 ->전체로는 중첩 리스트\n",
        "    data=data[1:]\n",
        "  return data\n",
        "\n",
        "def write_data(data, filename, encoding='cp949'):  #쓰기 함수도 정의 \n",
        "  with open(filename, 'w', encoding=encoding) as f:\n",
        "    f.write(data)\n",
        "\n",
        "data = read_data('ratings.txt', encoding='cp949')  #전체 파일은 ratings.txt"
      ],
      "execution_count": 29,
      "outputs": []
    },
    {
      "cell_type": "code",
      "metadata": {
        "colab": {
          "base_uri": "https://localhost:8080/"
        },
        "id": "Kr-bnHNPe2qI",
        "outputId": "f6b22659-08dc-484f-a1b5-b4810c23441a"
      },
      "source": [
        "#전체 데이터 형태소 분석\n",
        "import rhinoMorph\n",
        "rn = rhinoMorph.startRhino()\n",
        "\n",
        "morphed_data = ''\n",
        "\n",
        "for data_each in data:\n",
        "  morphed_data_each = rhinoMorph.onlyMorph_list(rn, data_each[1], pos=['NNG','NNP','VV','VA','XR','IC','MM','MAG','MAJ'], eomi=True)\n",
        "  joined_data_each = ' '.join(morphed_data_each)\n",
        "  if joined_data_each:\n",
        "    morphed_data += data_each[0]+'\\t'+joined_data_each+'\\t'+data_each[2]+'\\n'\n",
        "\n",
        "#형태소 분석된 파일 저장\n",
        "write_data(morphed_data, 'ratings_morphed.txt', encoding='cp949')"
      ],
      "execution_count": 30,
      "outputs": [
        {
          "output_type": "stream",
          "text": [
            "filepath:  /usr/local/lib/python3.7/dist-packages\n",
            "classpath:  /usr/local/lib/python3.7/dist-packages/rhinoMorph/lib/rhino.jar\n",
            "JVM is already started~\n",
            "RHINO started!\n"
          ],
          "name": "stdout"
        }
      ]
    },
    {
      "cell_type": "code",
      "metadata": {
        "colab": {
          "base_uri": "https://localhost:8080/"
        },
        "id": "puiClOVLgRIk",
        "outputId": "2213bbf7-e2fa-4e5f-d493-605788e3a8f9"
      },
      "source": [
        "#형태분석된 데이터 로딩\n",
        "data = read_data('ratings_morphed.txt',encoding='cp949')\n",
        "print(len(data))\n",
        "print(len(data[0]))\n",
        "print(data[0])"
      ],
      "execution_count": 32,
      "outputs": [
        {
          "output_type": "stream",
          "text": [
            "491\n",
            "3\n",
            "['4655635', '폴리스스토리 시리즈 뉴 없다 최고', '1']\n"
          ],
          "name": "stdout"
        }
      ]
    },
    {
      "cell_type": "code",
      "metadata": {
        "id": "JWCtNdBKhdm2"
      },
      "source": [
        "#감성사전 읽기\n",
        "data_id = [line[0] for line in data]  #데이터 id\n",
        "data_text = [line[1] for line in data]  #데이터 본문\n",
        "data_senti = [line[2] for line in data]  #데이터 긍부정 부분\n",
        "\n",
        "positive = read_data('positive.txt')  #긍정 감성사전 읽기\n",
        "negative = read_data('negative.txt')  #부정 감성사전 읽기\n",
        "\n",
        "pos_fount=[]\n",
        "neg_fount=[]"
      ],
      "execution_count": 33,
      "outputs": []
    },
    {
      "cell_type": "code",
      "metadata": {
        "colab": {
          "base_uri": "https://localhost:8080/"
        },
        "id": "kQ_Z6e3kis-N",
        "outputId": "6545f78d-3e86-4203-de99-c0f13888a9d3"
      },
      "source": [
        "#감정 단어 파악\n",
        "def cntWordInLine(data, senti):\n",
        "  senti_fount=[]\n",
        "  for onedata in data:\n",
        "    oneline_word=onedata.split(' ') #한줄의 데이터를 공백 단위로 분리하여 리스트로 저장\n",
        "    senti_temp=0 #그 줄에서 발견된 감정단어의 수를 담는 변수\n",
        "    for sentiword in senti: #감정사전 어휘\n",
        "      if sentiword[0] in oneline_word: #sentiword[0]하여 리스트 원소를 문자열로 추출\n",
        "        senti_temp+=1  #현재의 감정단어와 일치하면 숫자를 하나 올려줌 (중복 방지)\n",
        "    senti_fount.append(senti_temp)  #현재의 줄에서 찾은 감성단어의 숫자를 해당 위치에 저장\n",
        "  return senti_fount\n",
        "\n",
        "data_senti_poscnt = cntWordInLine(data_text, positive) #발견된 긍정 단어의 숫자 파악\n",
        "data_senti_negcnt = cntWordInLine(data_text, negative) #발견된 부정 단어의 숫자 파악\n",
        "\n",
        "print(data_senti_poscnt[:20])\n",
        "print(data_senti_negcnt[:20])"
      ],
      "execution_count": 35,
      "outputs": [
        {
          "output_type": "stream",
          "text": [
            "[1, 0, 0, 1, 1, 0, 0, 0, 1, 0, 0, 0, 0, 2, 0, 1, 0, 1, 0, 1]\n",
            "[0, 1, 0, 0, 0, 1, 0, 0, 0, 0, 0, 0, 0, 1, 0, 0, 0, 0, 1, 0]\n"
          ],
          "name": "stdout"
        }
      ]
    },
    {
      "cell_type": "code",
      "metadata": {
        "id": "1dvAx5j_jjfB"
      },
      "source": [
        "#감정 점수 계산\n",
        "#pandas dataframe으로 저장\n",
        "import pandas as pd\n",
        "newdata = pd.DataFrame({'id':data_id,'text':data_text,'original':data_senti,'pos':data_senti_poscnt,'neg':data_senti_negcnt})\n",
        "senti_score=newdata['pos']-newdata['neg']\n",
        "newdata['senti_score']=senti_score\n",
        "\n",
        "newdata.loc[newdata.senti_score>0,'new']=1  #새로운 긍부정 기호\n",
        "newdata.loc[newdata.senti_score<=0,'new']=0 #새로운 긍부정 기호\n",
        "\n",
        "#처음에 기록된 긍부정과 새로 계산된 긍부정이 같으니 여부를 matched칼럼에 저장\n",
        "#original 컬럼은 문자로 되어 있으므로 숫자로 변환 뒤 비교\n",
        "newdata.loc[pd.to_numeric(newdata.original)==newdata.new,'matched']='True'\n",
        "newdata.loc[pd.to_numeric(newdata.original)!=newdata.new,'matched']='False'"
      ],
      "execution_count": 37,
      "outputs": []
    },
    {
      "cell_type": "code",
      "metadata": {
        "colab": {
          "base_uri": "https://localhost:8080/"
        },
        "id": "vTrBxkmSkaXR",
        "outputId": "5277b2a3-5157-48bb-be6a-cfc186591f85"
      },
      "source": [
        "#원점수와 비교 및 저장\n",
        "score = newdata.matched.str.count('True').sum() / (newdata.matched.str.count('True').sum() + newdata.matched.str.count('False').sum()) * 100\n",
        "print(score)"
      ],
      "execution_count": 38,
      "outputs": [
        {
          "output_type": "stream",
          "text": [
            "59.67413441955194\n"
          ],
          "name": "stdout"
        }
      ]
    },
    {
      "cell_type": "code",
      "metadata": {
        "id": "FxNoKdk3lks3"
      },
      "source": [
        "#저장\n",
        "newdata.to_csv('newfile.csv', sep=',', encoding='cp949', index=False) #csv 저장\n",
        "newdata.to_csv('newfile.txt',sep='\\t', encoding='cp949', index=False) #txt저장"
      ],
      "execution_count": 39,
      "outputs": []
    },
    {
      "cell_type": "code",
      "metadata": {
        "id": "Vz0gm0D-l0lg"
      },
      "source": [
        "#시그모이드 점수 계산\n",
        "import math\n",
        "def sigmoid(x):\n",
        "  return 1/(1+math.exp(-x))\n",
        "\n",
        "newdata['sigmoid']=newdata.senti_score.apply(sigmoid)"
      ],
      "execution_count": 40,
      "outputs": []
    },
    {
      "cell_type": "code",
      "metadata": {
        "colab": {
          "base_uri": "https://localhost:8080/",
          "height": 203
        },
        "id": "85vwVbQomCDI",
        "outputId": "d0b80d92-b227-42a2-ccf5-c4b578c06154"
      },
      "source": [
        "#결과 확인\n",
        "newdata.head()"
      ],
      "execution_count": 41,
      "outputs": [
        {
          "output_type": "execute_result",
          "data": {
            "text/html": [
              "<div>\n",
              "<style scoped>\n",
              "    .dataframe tbody tr th:only-of-type {\n",
              "        vertical-align: middle;\n",
              "    }\n",
              "\n",
              "    .dataframe tbody tr th {\n",
              "        vertical-align: top;\n",
              "    }\n",
              "\n",
              "    .dataframe thead th {\n",
              "        text-align: right;\n",
              "    }\n",
              "</style>\n",
              "<table border=\"1\" class=\"dataframe\">\n",
              "  <thead>\n",
              "    <tr style=\"text-align: right;\">\n",
              "      <th></th>\n",
              "      <th>id</th>\n",
              "      <th>text</th>\n",
              "      <th>original</th>\n",
              "      <th>pos</th>\n",
              "      <th>neg</th>\n",
              "      <th>senti_score</th>\n",
              "      <th>new</th>\n",
              "      <th>matched</th>\n",
              "      <th>sigmoid</th>\n",
              "    </tr>\n",
              "  </thead>\n",
              "  <tbody>\n",
              "    <tr>\n",
              "      <th>0</th>\n",
              "      <td>4655635</td>\n",
              "      <td>폴리스스토리 시리즈 뉴 없다 최고</td>\n",
              "      <td>1</td>\n",
              "      <td>1</td>\n",
              "      <td>0</td>\n",
              "      <td>1</td>\n",
              "      <td>1.0</td>\n",
              "      <td>True</td>\n",
              "      <td>0.731059</td>\n",
              "    </tr>\n",
              "    <tr>\n",
              "      <th>1</th>\n",
              "      <td>9251303</td>\n",
              "      <td>와 연기 진짜 쩔다 지루 생각 몰입 그래 이런 진짜 영화</td>\n",
              "      <td>1</td>\n",
              "      <td>0</td>\n",
              "      <td>1</td>\n",
              "      <td>-1</td>\n",
              "      <td>0.0</td>\n",
              "      <td>False</td>\n",
              "      <td>0.268941</td>\n",
              "    </tr>\n",
              "    <tr>\n",
              "      <th>2</th>\n",
              "      <td>10067386</td>\n",
              "      <td>안개 자욱 하다 밤하늘 뜨다 초승달 같다 영화</td>\n",
              "      <td>1</td>\n",
              "      <td>0</td>\n",
              "      <td>0</td>\n",
              "      <td>0</td>\n",
              "      <td>0.0</td>\n",
              "      <td>False</td>\n",
              "      <td>0.500000</td>\n",
              "    </tr>\n",
              "    <tr>\n",
              "      <th>3</th>\n",
              "      <td>2190435</td>\n",
              "      <td>사랑 해 사람 처음 끝 웃다 있다 영화</td>\n",
              "      <td>1</td>\n",
              "      <td>1</td>\n",
              "      <td>0</td>\n",
              "      <td>1</td>\n",
              "      <td>1.0</td>\n",
              "      <td>True</td>\n",
              "      <td>0.731059</td>\n",
              "    </tr>\n",
              "    <tr>\n",
              "      <th>4</th>\n",
              "      <td>9279041</td>\n",
              "      <td>완전 감동 다시다 감동</td>\n",
              "      <td>1</td>\n",
              "      <td>1</td>\n",
              "      <td>0</td>\n",
              "      <td>1</td>\n",
              "      <td>1.0</td>\n",
              "      <td>True</td>\n",
              "      <td>0.731059</td>\n",
              "    </tr>\n",
              "  </tbody>\n",
              "</table>\n",
              "</div>"
            ],
            "text/plain": [
              "         id                             text original  ...  new  matched   sigmoid\n",
              "0   4655635               폴리스스토리 시리즈 뉴 없다 최고        1  ...  1.0     True  0.731059\n",
              "1   9251303  와 연기 진짜 쩔다 지루 생각 몰입 그래 이런 진짜 영화        1  ...  0.0    False  0.268941\n",
              "2  10067386        안개 자욱 하다 밤하늘 뜨다 초승달 같다 영화        1  ...  0.0    False  0.500000\n",
              "3   2190435            사랑 해 사람 처음 끝 웃다 있다 영화        1  ...  1.0     True  0.731059\n",
              "4   9279041                     완전 감동 다시다 감동        1  ...  1.0     True  0.731059\n",
              "\n",
              "[5 rows x 9 columns]"
            ]
          },
          "metadata": {
            "tags": []
          },
          "execution_count": 41
        }
      ]
    },
    {
      "cell_type": "code",
      "metadata": {
        "id": "KlsE5PLbmEh1"
      },
      "source": [
        ""
      ],
      "execution_count": null,
      "outputs": []
    }
  ]
}