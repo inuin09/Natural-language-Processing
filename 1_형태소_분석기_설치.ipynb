{
  "nbformat": 4,
  "nbformat_minor": 0,
  "metadata": {
    "colab": {
      "name": "1. 형태소 분석기 설치.ipynb",
      "provenance": [],
      "collapsed_sections": [],
      "toc_visible": true,
      "authorship_tag": "ABX9TyN3CoBDCyogtPSgW9nb948h",
      "include_colab_link": true
    },
    "kernelspec": {
      "name": "python3",
      "display_name": "Python 3"
    },
    "language_info": {
      "name": "python"
    }
  },
  "cells": [
    {
      "cell_type": "markdown",
      "metadata": {
        "id": "view-in-github",
        "colab_type": "text"
      },
      "source": [
        "<a href=\"https://colab.research.google.com/github/inuin09/Natural-language-Processing/blob/main/1_%ED%98%95%ED%83%9C%EC%86%8C_%EB%B6%84%EC%84%9D%EA%B8%B0_%EC%84%A4%EC%B9%98.ipynb\" target=\"_parent\"><img src=\"https://colab.research.google.com/assets/colab-badge.svg\" alt=\"Open In Colab\"/></a>"
      ]
    },
    {
      "cell_type": "code",
      "metadata": {
        "id": "Ff8AjURyZ39o"
      },
      "source": [
        "# 1. OS 업데이트 및 JAVA설치\n",
        "!apt-get update\n",
        "!apt-get install g++ openjdk-8-jdk"
      ],
      "execution_count": null,
      "outputs": []
    },
    {
      "cell_type": "code",
      "metadata": {
        "colab": {
          "base_uri": "https://localhost:8080/"
        },
        "id": "PuqIt8mzaBD4",
        "outputId": "952e111e-b3b7-444e-9c41-58957a902826"
      },
      "source": [
        "#2. JPype설치\n",
        "!pip install JPype1"
      ],
      "execution_count": 2,
      "outputs": [
        {
          "output_type": "stream",
          "text": [
            "Collecting JPype1\n",
            "  Downloading JPype1-1.3.0-cp37-cp37m-manylinux_2_5_x86_64.manylinux1_x86_64.whl (448 kB)\n",
            "\u001b[?25l\r\u001b[K     |▊                               | 10 kB 19.7 MB/s eta 0:00:01\r\u001b[K     |█▌                              | 20 kB 24.2 MB/s eta 0:00:01\r\u001b[K     |██▏                             | 30 kB 29.5 MB/s eta 0:00:01\r\u001b[K     |███                             | 40 kB 21.7 MB/s eta 0:00:01\r\u001b[K     |███▋                            | 51 kB 9.3 MB/s eta 0:00:01\r\u001b[K     |████▍                           | 61 kB 7.9 MB/s eta 0:00:01\r\u001b[K     |█████                           | 71 kB 8.9 MB/s eta 0:00:01\r\u001b[K     |█████▉                          | 81 kB 9.3 MB/s eta 0:00:01\r\u001b[K     |██████▋                         | 92 kB 10.2 MB/s eta 0:00:01\r\u001b[K     |███████▎                        | 102 kB 8.3 MB/s eta 0:00:01\r\u001b[K     |████████                        | 112 kB 8.3 MB/s eta 0:00:01\r\u001b[K     |████████▊                       | 122 kB 8.3 MB/s eta 0:00:01\r\u001b[K     |█████████▌                      | 133 kB 8.3 MB/s eta 0:00:01\r\u001b[K     |██████████▏                     | 143 kB 8.3 MB/s eta 0:00:01\r\u001b[K     |███████████                     | 153 kB 8.3 MB/s eta 0:00:01\r\u001b[K     |███████████▊                    | 163 kB 8.3 MB/s eta 0:00:01\r\u001b[K     |████████████▍                   | 174 kB 8.3 MB/s eta 0:00:01\r\u001b[K     |█████████████▏                  | 184 kB 8.3 MB/s eta 0:00:01\r\u001b[K     |█████████████▉                  | 194 kB 8.3 MB/s eta 0:00:01\r\u001b[K     |██████████████▋                 | 204 kB 8.3 MB/s eta 0:00:01\r\u001b[K     |███████████████▎                | 215 kB 8.3 MB/s eta 0:00:01\r\u001b[K     |████████████████                | 225 kB 8.3 MB/s eta 0:00:01\r\u001b[K     |████████████████▉               | 235 kB 8.3 MB/s eta 0:00:01\r\u001b[K     |█████████████████▌              | 245 kB 8.3 MB/s eta 0:00:01\r\u001b[K     |██████████████████▎             | 256 kB 8.3 MB/s eta 0:00:01\r\u001b[K     |███████████████████             | 266 kB 8.3 MB/s eta 0:00:01\r\u001b[K     |███████████████████▊            | 276 kB 8.3 MB/s eta 0:00:01\r\u001b[K     |████████████████████▍           | 286 kB 8.3 MB/s eta 0:00:01\r\u001b[K     |█████████████████████▏          | 296 kB 8.3 MB/s eta 0:00:01\r\u001b[K     |██████████████████████          | 307 kB 8.3 MB/s eta 0:00:01\r\u001b[K     |██████████████████████▋         | 317 kB 8.3 MB/s eta 0:00:01\r\u001b[K     |███████████████████████▍        | 327 kB 8.3 MB/s eta 0:00:01\r\u001b[K     |████████████████████████        | 337 kB 8.3 MB/s eta 0:00:01\r\u001b[K     |████████████████████████▉       | 348 kB 8.3 MB/s eta 0:00:01\r\u001b[K     |█████████████████████████▌      | 358 kB 8.3 MB/s eta 0:00:01\r\u001b[K     |██████████████████████████▎     | 368 kB 8.3 MB/s eta 0:00:01\r\u001b[K     |███████████████████████████     | 378 kB 8.3 MB/s eta 0:00:01\r\u001b[K     |███████████████████████████▊    | 389 kB 8.3 MB/s eta 0:00:01\r\u001b[K     |████████████████████████████▌   | 399 kB 8.3 MB/s eta 0:00:01\r\u001b[K     |█████████████████████████████▏  | 409 kB 8.3 MB/s eta 0:00:01\r\u001b[K     |██████████████████████████████  | 419 kB 8.3 MB/s eta 0:00:01\r\u001b[K     |██████████████████████████████▋ | 430 kB 8.3 MB/s eta 0:00:01\r\u001b[K     |███████████████████████████████▍| 440 kB 8.3 MB/s eta 0:00:01\r\u001b[K     |████████████████████████████████| 448 kB 8.3 MB/s \n",
            "\u001b[?25hRequirement already satisfied: typing-extensions in /usr/local/lib/python3.7/dist-packages (from JPype1) (3.7.4.3)\n",
            "Installing collected packages: JPype1\n",
            "Successfully installed JPype1-1.3.0\n"
          ],
          "name": "stdout"
        }
      ]
    },
    {
      "cell_type": "code",
      "metadata": {
        "colab": {
          "base_uri": "https://localhost:8080/"
        },
        "id": "qYmJtGfVace6",
        "outputId": "2382798e-cd65-4711-a6a9-a89c020f1255"
      },
      "source": [
        "#3. RHINO 설치\n",
        "!pip install rhinoMorph"
      ],
      "execution_count": 3,
      "outputs": [
        {
          "output_type": "stream",
          "text": [
            "Collecting rhinoMorph\n",
            "  Downloading rhinoMorph-3.8.0.0-py3-none-any.whl (3.0 MB)\n",
            "\u001b[K     |████████████████████████████████| 3.0 MB 8.9 MB/s \n",
            "\u001b[?25hInstalling collected packages: rhinoMorph\n",
            "Successfully installed rhinoMorph-3.8.0.0\n"
          ],
          "name": "stdout"
        }
      ]
    },
    {
      "cell_type": "code",
      "metadata": {
        "colab": {
          "base_uri": "https://localhost:8080/"
        },
        "id": "IvN_HCuPaiZU",
        "outputId": "32e7ad20-3592-4d91-e3bb-9df72130a3c9"
      },
      "source": [
        "#4. RHINO 시작\n",
        "import rhinoMorph\n",
        "rn = rhinoMorph.startRhino() #사전을 메모리에 로딩. 처음 한번만 필요."
      ],
      "execution_count": 4,
      "outputs": [
        {
          "output_type": "stream",
          "text": [
            "filepath:  /usr/local/lib/python3.7/dist-packages\n",
            "classpath:  /usr/local/lib/python3.7/dist-packages/rhinoMorph/lib/rhino.jar\n",
            "RHINO started!\n"
          ],
          "name": "stdout"
        }
      ]
    },
    {
      "cell_type": "code",
      "metadata": {
        "colab": {
          "base_uri": "https://localhost:8080/"
        },
        "id": "CkLxu12Ya2kg",
        "outputId": "b1ec392d-15d8-41cb-bfb8-9b37b004a2f4"
      },
      "source": [
        "#5. 예문 분석\n",
        "text='한글 테스트 글을 남겨주세요.'\n",
        "sample_data = rhinoMorph.onlyMorph_list(rn, text) #품사 빼고, 형태만 가져오는데 리스트 형태로 가져와라.\n",
        "print('sample data:', sample_data) "
      ],
      "execution_count": 5,
      "outputs": [
        {
          "output_type": "stream",
          "text": [
            "sample data: ['한글', '테스트', '글', '을', '남기', '어', '주', '시', '어요', '.']\n"
          ],
          "name": "stdout"
        }
      ]
    },
    {
      "cell_type": "code",
      "metadata": {
        "colab": {
          "base_uri": "https://localhost:8080/",
          "height": 35
        },
        "id": "kw5zzUNpbN7x",
        "outputId": "51650093-fc28-4cc4-ff3e-c557e19665f9"
      },
      "source": [
        "sample_data[1]  #sample data 리스트의 1번 내용을 가져와라"
      ],
      "execution_count": 6,
      "outputs": [
        {
          "output_type": "execute_result",
          "data": {
            "application/vnd.google.colaboratory.intrinsic+json": {
              "type": "string"
            },
            "text/plain": [
              "'테스트'"
            ]
          },
          "metadata": {
            "tags": []
          },
          "execution_count": 6
        }
      ]
    },
    {
      "cell_type": "code",
      "metadata": {
        "id": "M_Se5tGhbxCU"
      },
      "source": [
        ""
      ],
      "execution_count": null,
      "outputs": []
    }
  ]
}